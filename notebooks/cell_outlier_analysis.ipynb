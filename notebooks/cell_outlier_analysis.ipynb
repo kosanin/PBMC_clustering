{
 "cells": [
  {
   "cell_type": "code",
   "execution_count": 1,
   "metadata": {},
   "outputs": [],
   "source": [
    "import pandas as pd"
   ]
  },
  {
   "cell_type": "code",
   "execution_count": 2,
   "metadata": {},
   "outputs": [
    {
     "data": {
      "text/html": [
       "<div>\n",
       "<style scoped>\n",
       "    .dataframe tbody tr th:only-of-type {\n",
       "        vertical-align: middle;\n",
       "    }\n",
       "\n",
       "    .dataframe tbody tr th {\n",
       "        vertical-align: top;\n",
       "    }\n",
       "\n",
       "    .dataframe thead th {\n",
       "        text-align: right;\n",
       "    }\n",
       "</style>\n",
       "<table border=\"1\" class=\"dataframe\">\n",
       "  <thead>\n",
       "    <tr style=\"text-align: right;\">\n",
       "      <th></th>\n",
       "      <th>grch38_ZFP41</th>\n",
       "      <th>grch38_ASF1A</th>\n",
       "      <th>grch38_TMEM39A</th>\n",
       "      <th>grch38_CCT7</th>\n",
       "      <th>grch38_DDX60</th>\n",
       "      <th>grch38_EPOR</th>\n",
       "      <th>grch38_NECAP2</th>\n",
       "      <th>grch38_RP4-735C1.4</th>\n",
       "      <th>grch38_SLC43A1</th>\n",
       "      <th>grch38_PGA4</th>\n",
       "      <th>...</th>\n",
       "      <th>grch38_CDC20</th>\n",
       "      <th>grch38_DNAJB9</th>\n",
       "      <th>grch38_OSTM1</th>\n",
       "      <th>grch38_ARMC2</th>\n",
       "      <th>grch38_LCNL1</th>\n",
       "      <th>grch38_PHB</th>\n",
       "      <th>grch38_DNHD1</th>\n",
       "      <th>grch38_CTB-129P6.11</th>\n",
       "      <th>grch38_LRRC29</th>\n",
       "      <th>grch38_ZFP36</th>\n",
       "    </tr>\n",
       "  </thead>\n",
       "  <tbody>\n",
       "    <tr>\n",
       "      <th>0</th>\n",
       "      <td>0</td>\n",
       "      <td>0</td>\n",
       "      <td>0</td>\n",
       "      <td>0</td>\n",
       "      <td>0</td>\n",
       "      <td>0</td>\n",
       "      <td>0</td>\n",
       "      <td>0</td>\n",
       "      <td>0</td>\n",
       "      <td>0</td>\n",
       "      <td>...</td>\n",
       "      <td>0</td>\n",
       "      <td>0</td>\n",
       "      <td>0</td>\n",
       "      <td>0</td>\n",
       "      <td>0</td>\n",
       "      <td>0</td>\n",
       "      <td>0</td>\n",
       "      <td>0</td>\n",
       "      <td>0</td>\n",
       "      <td>1</td>\n",
       "    </tr>\n",
       "    <tr>\n",
       "      <th>1</th>\n",
       "      <td>0</td>\n",
       "      <td>0</td>\n",
       "      <td>0</td>\n",
       "      <td>0</td>\n",
       "      <td>0</td>\n",
       "      <td>0</td>\n",
       "      <td>0</td>\n",
       "      <td>0</td>\n",
       "      <td>0</td>\n",
       "      <td>0</td>\n",
       "      <td>...</td>\n",
       "      <td>0</td>\n",
       "      <td>0</td>\n",
       "      <td>0</td>\n",
       "      <td>0</td>\n",
       "      <td>0</td>\n",
       "      <td>2</td>\n",
       "      <td>0</td>\n",
       "      <td>0</td>\n",
       "      <td>0</td>\n",
       "      <td>0</td>\n",
       "    </tr>\n",
       "    <tr>\n",
       "      <th>2</th>\n",
       "      <td>0</td>\n",
       "      <td>0</td>\n",
       "      <td>0</td>\n",
       "      <td>0</td>\n",
       "      <td>0</td>\n",
       "      <td>0</td>\n",
       "      <td>1</td>\n",
       "      <td>0</td>\n",
       "      <td>0</td>\n",
       "      <td>0</td>\n",
       "      <td>...</td>\n",
       "      <td>0</td>\n",
       "      <td>1</td>\n",
       "      <td>0</td>\n",
       "      <td>0</td>\n",
       "      <td>0</td>\n",
       "      <td>0</td>\n",
       "      <td>0</td>\n",
       "      <td>0</td>\n",
       "      <td>0</td>\n",
       "      <td>0</td>\n",
       "    </tr>\n",
       "    <tr>\n",
       "      <th>3</th>\n",
       "      <td>0</td>\n",
       "      <td>0</td>\n",
       "      <td>0</td>\n",
       "      <td>0</td>\n",
       "      <td>0</td>\n",
       "      <td>0</td>\n",
       "      <td>2</td>\n",
       "      <td>0</td>\n",
       "      <td>0</td>\n",
       "      <td>0</td>\n",
       "      <td>...</td>\n",
       "      <td>0</td>\n",
       "      <td>0</td>\n",
       "      <td>0</td>\n",
       "      <td>0</td>\n",
       "      <td>0</td>\n",
       "      <td>0</td>\n",
       "      <td>0</td>\n",
       "      <td>0</td>\n",
       "      <td>0</td>\n",
       "      <td>0</td>\n",
       "    </tr>\n",
       "    <tr>\n",
       "      <th>4</th>\n",
       "      <td>0</td>\n",
       "      <td>0</td>\n",
       "      <td>0</td>\n",
       "      <td>0</td>\n",
       "      <td>0</td>\n",
       "      <td>0</td>\n",
       "      <td>0</td>\n",
       "      <td>0</td>\n",
       "      <td>0</td>\n",
       "      <td>0</td>\n",
       "      <td>...</td>\n",
       "      <td>0</td>\n",
       "      <td>0</td>\n",
       "      <td>0</td>\n",
       "      <td>0</td>\n",
       "      <td>0</td>\n",
       "      <td>0</td>\n",
       "      <td>0</td>\n",
       "      <td>0</td>\n",
       "      <td>0</td>\n",
       "      <td>0</td>\n",
       "    </tr>\n",
       "  </tbody>\n",
       "</table>\n",
       "<p>5 rows × 18166 columns</p>\n",
       "</div>"
      ],
      "text/plain": [
       "   grch38_ZFP41  grch38_ASF1A  grch38_TMEM39A  grch38_CCT7  grch38_DDX60  \\\n",
       "0             0             0               0            0             0   \n",
       "1             0             0               0            0             0   \n",
       "2             0             0               0            0             0   \n",
       "3             0             0               0            0             0   \n",
       "4             0             0               0            0             0   \n",
       "\n",
       "   grch38_EPOR  grch38_NECAP2  grch38_RP4-735C1.4  grch38_SLC43A1  \\\n",
       "0            0              0                   0               0   \n",
       "1            0              0                   0               0   \n",
       "2            0              1                   0               0   \n",
       "3            0              2                   0               0   \n",
       "4            0              0                   0               0   \n",
       "\n",
       "   grch38_PGA4  ...  grch38_CDC20  grch38_DNAJB9  grch38_OSTM1  grch38_ARMC2  \\\n",
       "0            0  ...             0              0             0             0   \n",
       "1            0  ...             0              0             0             0   \n",
       "2            0  ...             0              1             0             0   \n",
       "3            0  ...             0              0             0             0   \n",
       "4            0  ...             0              0             0             0   \n",
       "\n",
       "   grch38_LCNL1  grch38_PHB  grch38_DNHD1  grch38_CTB-129P6.11  grch38_LRRC29  \\\n",
       "0             0           0             0                    0              0   \n",
       "1             0           2             0                    0              0   \n",
       "2             0           0             0                    0              0   \n",
       "3             0           0             0                    0              0   \n",
       "4             0           0             0                    0              0   \n",
       "\n",
       "   grch38_ZFP36  \n",
       "0             1  \n",
       "1             0  \n",
       "2             0  \n",
       "3             0  \n",
       "4             0  \n",
       "\n",
       "[5 rows x 18166 columns]"
      ]
     },
     "execution_count": 2,
     "metadata": {},
     "output_type": "execute_result"
    }
   ],
   "source": [
    "# data.csv = transponovani podaci + izbaceni nula geni\n",
    "df = pd.read_csv(\"data.csv\")\n",
    "df.head()"
   ]
  },
  {
   "cell_type": "code",
   "execution_count": 11,
   "metadata": {},
   "outputs": [
    {
     "data": {
      "text/html": [
       "<div>\n",
       "<style scoped>\n",
       "    .dataframe tbody tr th:only-of-type {\n",
       "        vertical-align: middle;\n",
       "    }\n",
       "\n",
       "    .dataframe tbody tr th {\n",
       "        vertical-align: top;\n",
       "    }\n",
       "\n",
       "    .dataframe thead th {\n",
       "        text-align: right;\n",
       "    }\n",
       "</style>\n",
       "<table border=\"1\" class=\"dataframe\">\n",
       "  <thead>\n",
       "    <tr style=\"text-align: right;\">\n",
       "      <th></th>\n",
       "      <th>sum_of_gene_exprs</th>\n",
       "    </tr>\n",
       "  </thead>\n",
       "  <tbody>\n",
       "    <tr>\n",
       "      <th>0</th>\n",
       "      <td>1605</td>\n",
       "    </tr>\n",
       "    <tr>\n",
       "      <th>1</th>\n",
       "      <td>5308</td>\n",
       "    </tr>\n",
       "    <tr>\n",
       "      <th>2</th>\n",
       "      <td>4350</td>\n",
       "    </tr>\n",
       "    <tr>\n",
       "      <th>3</th>\n",
       "      <td>7730</td>\n",
       "    </tr>\n",
       "    <tr>\n",
       "      <th>4</th>\n",
       "      <td>2859</td>\n",
       "    </tr>\n",
       "  </tbody>\n",
       "</table>\n",
       "</div>"
      ],
      "text/plain": [
       "   sum_of_gene_exprs\n",
       "0               1605\n",
       "1               5308\n",
       "2               4350\n",
       "3               7730\n",
       "4               2859"
      ]
     },
     "execution_count": 11,
     "metadata": {},
     "output_type": "execute_result"
    }
   ],
   "source": [
    "# koliko se ukupno ekspresija gena javila za svaku celiju\n",
    "sum_of_gene_exprs = df.sum(axis=1)\n",
    "data_stats = pd.DataFrame(data=sum_of_gene_exprs, columns=[\"sum_of_gene_exprs\"])\n",
    "data_stats.head()"
   ]
  },
  {
   "cell_type": "code",
   "execution_count": 12,
   "metadata": {},
   "outputs": [
    {
     "data": {
      "text/plain": [
       "(4975, 1)"
      ]
     },
     "execution_count": 12,
     "metadata": {},
     "output_type": "execute_result"
    }
   ],
   "source": [
    "data_stats.shape"
   ]
  },
  {
   "cell_type": "markdown",
   "metadata": {},
   "source": [
    "# Filtriranje celija na osnovu ukupne ekspresije gena\n",
    "\n",
    "Uslov suma ekspresija gena po celiji >1000 zadovoljavaju sve celije\n",
    "\n",
    "Sve celije su 'pozitivne', tj broj atributa za koje > 0 je veci od 500 za sve celije"
   ]
  },
  {
   "cell_type": "code",
   "execution_count": 13,
   "metadata": {},
   "outputs": [
    {
     "data": {
      "text/plain": [
       "4975"
      ]
     },
     "execution_count": 13,
     "metadata": {},
     "output_type": "execute_result"
    }
   ],
   "source": [
    "# za skup GSM3087619 svaka celija ima bar 1000 ekspresija gena\n",
    "(data_stats['sum_of_gene_exprs'] > 1000).count()"
   ]
  },
  {
   "cell_type": "markdown",
   "metadata": {},
   "source": [
    "## Ovde je greska, cilj je bio izbaciti celije koje imaju manje od 500 nenula vrednosti, dok naredni kod racuna obrnuto, koliko nula vrednosti ima svaka celija. Dakle potrebno je promeniti samo (df != 0).sum(axis=1)"
   ]
  },
  {
   "cell_type": "code",
   "execution_count": 14,
   "metadata": {},
   "outputs": [
    {
     "data": {
      "text/html": [
       "<div>\n",
       "<style scoped>\n",
       "    .dataframe tbody tr th:only-of-type {\n",
       "        vertical-align: middle;\n",
       "    }\n",
       "\n",
       "    .dataframe tbody tr th {\n",
       "        vertical-align: top;\n",
       "    }\n",
       "\n",
       "    .dataframe thead th {\n",
       "        text-align: right;\n",
       "    }\n",
       "</style>\n",
       "<table border=\"1\" class=\"dataframe\">\n",
       "  <thead>\n",
       "    <tr style=\"text-align: right;\">\n",
       "      <th></th>\n",
       "      <th>sum_of_gene_exprs</th>\n",
       "      <th>count_of_expr_genes</th>\n",
       "    </tr>\n",
       "  </thead>\n",
       "  <tbody>\n",
       "    <tr>\n",
       "      <th>0</th>\n",
       "      <td>1605</td>\n",
       "      <td>17434</td>\n",
       "    </tr>\n",
       "    <tr>\n",
       "      <th>1</th>\n",
       "      <td>5308</td>\n",
       "      <td>16922</td>\n",
       "    </tr>\n",
       "    <tr>\n",
       "      <th>2</th>\n",
       "      <td>4350</td>\n",
       "      <td>17124</td>\n",
       "    </tr>\n",
       "    <tr>\n",
       "      <th>3</th>\n",
       "      <td>7730</td>\n",
       "      <td>15990</td>\n",
       "    </tr>\n",
       "    <tr>\n",
       "      <th>4</th>\n",
       "      <td>2859</td>\n",
       "      <td>16865</td>\n",
       "    </tr>\n",
       "  </tbody>\n",
       "</table>\n",
       "</div>"
      ],
      "text/plain": [
       "   sum_of_gene_exprs  count_of_expr_genes\n",
       "0               1605                17434\n",
       "1               5308                16922\n",
       "2               4350                17124\n",
       "3               7730                15990\n",
       "4               2859                16865"
      ]
     },
     "execution_count": 14,
     "metadata": {},
     "output_type": "execute_result"
    }
   ],
   "source": [
    "count_of_expr_genes = (df == 0).sum(axis=1)\n",
    "data_stats['count_of_expr_genes'] = count_of_expr_genes\n",
    "data_stats.head()"
   ]
  },
  {
   "cell_type": "code",
   "execution_count": 15,
   "metadata": {},
   "outputs": [
    {
     "data": {
      "text/plain": [
       "4975"
      ]
     },
     "execution_count": 15,
     "metadata": {},
     "output_type": "execute_result"
    }
   ],
   "source": [
    "# u svakoj celiji postoji bar 500 gena(atributa) sa nenula vrednoscu\n",
    "(data_stats['count_of_expr_genes'] > 500).count()"
   ]
  },
  {
   "cell_type": "code",
   "execution_count": 16,
   "metadata": {},
   "outputs": [],
   "source": [
    "import matplotlib.pyplot as plt"
   ]
  },
  {
   "cell_type": "markdown",
   "metadata": {},
   "source": [
    "# Pokusaj fit-ovanja gamma raspodele radi odredjivanje granica za filtriranje outlier-a"
   ]
  },
  {
   "cell_type": "code",
   "execution_count": 19,
   "metadata": {},
   "outputs": [
    {
     "name": "stdout",
     "output_type": "stream",
     "text": [
      "13.0 23922 1840.1538461538462\n"
     ]
    }
   ],
   "source": [
    "# k = [log2(N)] + 1 <- broj kategorija\n",
    "# d = R / k         <- sirina svakog intervala\n",
    "# R                 <- Raspon uzorka (max - min)\n",
    "k = np.rint(np.log2(data_stats.shape[0])) + 1\n",
    "R = data_stats['sum_of_gene_exprs'].max() - data_stats['sum_of_gene_exprs'].min()\n",
    "d = R / k\n",
    "\n",
    "print(k, R, d)"
   ]
  },
  {
   "cell_type": "code",
   "execution_count": 21,
   "metadata": {},
   "outputs": [
    {
     "data": {
      "text/plain": [
       "(array([1.42657943e-04, 2.57352308e-04, 1.01040274e-04, 2.29388729e-05,\n",
       "        1.04863419e-05, 4.80624005e-06, 2.07542184e-06, 9.83094555e-07,\n",
       "        4.36930913e-07, 4.36930913e-07, 1.09232728e-07, 0.00000000e+00,\n",
       "        1.09232728e-07]),\n",
       " array([ 1263.        ,  3103.15384615,  4943.30769231,  6783.46153846,\n",
       "         8623.61538462, 10463.76923077, 12303.92307692, 14144.07692308,\n",
       "        15984.23076923, 17824.38461538, 19664.53846154, 21504.69230769,\n",
       "        23344.84615385, 25185.        ]),\n",
       " <a list of 13 Patch objects>)"
      ]
     },
     "execution_count": 21,
     "metadata": {},
     "output_type": "execute_result"
    },
    {
     "data": {
      "image/png": "[encoded data removed]",
      "text/plain": [
       "<Figure size 432x288 with 1 Axes>"
      ]
     },
     "metadata": {
      "needs_background": "light"
     },
     "output_type": "display_data"
    }
   ],
   "source": [
    "plt.hist(x=data_stats['sum_of_gene_exprs']\n",
    "        ,bins=[data_stats['sum_of_gene_exprs'].min() + i * d for i in range(int(k)+1)]\n",
    "        ,density=True)"
   ]
  },
  {
   "cell_type": "code",
   "execution_count": 80,
   "metadata": {},
   "outputs": [
    {
     "data": {
      "text/plain": [
       "{'whiskers': [<matplotlib.lines.Line2D at 0x1cf5f5193c8>,\n",
       "  <matplotlib.lines.Line2D at 0x1cf5f519ac8>],\n",
       " 'caps': [<matplotlib.lines.Line2D at 0x1cf5f51d148>,\n",
       "  <matplotlib.lines.Line2D at 0x1cf5f51d7c8>],\n",
       " 'boxes': [<matplotlib.lines.Line2D at 0x1cf5f510c08>],\n",
       " 'medians': [<matplotlib.lines.Line2D at 0x1cf5f51dd08>],\n",
       " 'fliers': [<matplotlib.lines.Line2D at 0x1cf5f522408>],\n",
       " 'means': []}"
      ]
     },
     "execution_count": 80,
     "metadata": {},
     "output_type": "execute_result"
    },
    {
     "data": {
      "image/png": "[encoded data removed]",
      "text/plain": [
       "<Figure size 432x288 with 1 Axes>"
      ]
     },
     "metadata": {
      "needs_background": "light"
     },
     "output_type": "display_data"
    }
   ],
   "source": [
    "plt.boxplot(data_stats['sum_of_gene_exprs'])"
   ]
  },
  {
   "cell_type": "code",
   "execution_count": 81,
   "metadata": {},
   "outputs": [
    {
     "data": {
      "text/plain": [
       "{'whiskers': [<matplotlib.lines.Line2D at 0x1cf5f5740c8>,\n",
       "  <matplotlib.lines.Line2D at 0x1cf5f574788>],\n",
       " 'caps': [<matplotlib.lines.Line2D at 0x1cf5f574cc8>,\n",
       "  <matplotlib.lines.Line2D at 0x1cf5f57a3c8>],\n",
       " 'boxes': [<matplotlib.lines.Line2D at 0x1cf5f56d888>],\n",
       " 'medians': [<matplotlib.lines.Line2D at 0x1cf5f57a9c8>],\n",
       " 'fliers': [<matplotlib.lines.Line2D at 0x1cf5f57a348>],\n",
       " 'means': []}"
      ]
     },
     "execution_count": 81,
     "metadata": {},
     "output_type": "execute_result"
    },
    {
     "data": {
      "image/png": "[encoded data removed]",
      "text/plain": [
       "<Figure size 432x288 with 1 Axes>"
      ]
     },
     "metadata": {
      "needs_background": "light"
     },
     "output_type": "display_data"
    }
   ],
   "source": [
    "plt.boxplot(data_stats['count_of_expr_genes'])"
   ]
  },
  {
   "cell_type": "code",
   "execution_count": 23,
   "metadata": {},
   "outputs": [],
   "source": [
    "sample_mean = data_stats['sum_of_gene_exprs'].mean()\n",
    "sample_disp = data_stats['sum_of_gene_exprs'].var()"
   ]
  },
  {
   "cell_type": "code",
   "execution_count": 24,
   "metadata": {},
   "outputs": [],
   "source": [
    "from scipy.stats import gamma"
   ]
  },
  {
   "cell_type": "code",
   "execution_count": 53,
   "metadata": {},
   "outputs": [
    {
     "data": {
      "image/png": "[encoded data removed]",
      "text/plain": [
       "<Figure size 432x288 with 1 Axes>"
      ]
     },
     "metadata": {
      "needs_background": "light"
     },
     "output_type": "display_data"
    }
   ],
   "source": [
    "# metod momenata za ocenjivanje parametara gama raspodele\n",
    "alpha_est = (sample_mean ** 2) / sample_disp\n",
    "beta_est = sample_mean / sample_disp\n",
    "\n",
    "equidistant_xs = np.linspace(0, data_stats['sum_of_gene_exprs'].max())\n",
    "ys = gamma.pdf(equidistant_xs, a=alpha_est, scale = 1 / beta_est)\n",
    "\n",
    "plt.hist(x=data_stats['sum_of_gene_exprs']\n",
    "        ,bins=[data_stats['sum_of_gene_exprs'].min() + i * d for i in range(int(k)+1)]\n",
    "        ,density=True)\n",
    "\n",
    "plt.plot(equidistant_xs, ys)\n",
    "plt.show()"
   ]
  },
  {
   "cell_type": "code",
   "execution_count": 33,
   "metadata": {},
   "outputs": [],
   "source": [
    "from scipy.stats import kstest"
   ]
  },
  {
   "cell_type": "code",
   "execution_count": 66,
   "metadata": {},
   "outputs": [
    {
     "data": {
      "text/plain": [
       "False"
      ]
     },
     "execution_count": 66,
     "metadata": {},
     "output_type": "execute_result"
    }
   ],
   "source": [
    "# parametri odredjeni sa metodom momenata\n",
    "kstest_res = kstest(data_stats['sum_of_gene_exprs'], cdf='gamma', args=(alpha_est, 833, 1/beta_est))\n",
    "kstest_res.pvalue > 0.05\n",
    "# F(alse)"
   ]
  },
  {
   "cell_type": "code",
   "execution_count": 69,
   "metadata": {},
   "outputs": [
    {
     "data": {
      "text/plain": [
       "False"
      ]
     },
     "execution_count": 69,
     "metadata": {},
     "output_type": "execute_result"
    }
   ],
   "source": [
    "# odredjivanje parametara sa gamma.fit\n",
    "res =kstest(data_stats['sum_of_gene_exprs'], cdf='gamma', args=gamma.fit(data_stats['sum_of_gene_exprs']))\n",
    "res.pvalue > 0.05\n",
    "# F(alse)"
   ]
  },
  {
   "cell_type": "code",
   "execution_count": 73,
   "metadata": {},
   "outputs": [],
   "source": [
    "from sklearn.ensemble import IsolationForest"
   ]
  },
  {
   "cell_type": "markdown",
   "metadata": {},
   "source": [
    "# Isolation Forest (ukradeno od Veljkovica)\n",
    "\n",
    "Još jedan ugao iz kog se mogu posmatrati elementi izvan granica je osobina separabilnosti. Elementi izvan granica se lakše (korišćenjem manjeg broja uslova, jednostavnijih funkcija, ...) mogu razdvojiti od ostalih elemenata, u odnosu na elemente koji pripadaju klasterima. Jedan od algoritama koji uzima ovo svojstvo u obzir je Isolation Forest koji po proizvoljno odabranom atributu deli skup na dva dela proizvoljnom pravom i postupak ponavlja sve dok sve instance nisu izolovane od ostalih. Ideja algoritma je da se elementi koji su izvan granica mogu izdvojiti u manjem broju iteracija u odnosu na regularne elemente. Jedna od karakteristika ovog algoritma je da cilj nije formiranje klastera i označavanje preostalih elemenata za outlier-e, već obrnuto, cilj direktno pronalaženje outlier-a.\n",
    "\n",
    "Početno stanje podrazumeva čvor koji sadrži sve elemente skupa. Svakom iteracijom skup se proizvoljnom pravom deli na dva skupa i time stablo dobija dva nova čvora. Dužina puta od korena (celog skupa) do lista koji sadrži samo jednu instancu koristi se kao mera (inverz) anomalije elementa koji se nalazi u listu. Što je put kraći, veća je verovatnoća da je element outlier. Postupak formiranja takvih stabla se ponavlja više puta i izračunava se prosečna dužina puteva. Dobijena vrednost predstavlja prag dužine ispod kog se element smatra outlier-om. Svaki od elemenata dobija skor kao prosečna vrednost skorova u svakom od stabala."
   ]
  },
  {
   "cell_type": "code",
   "execution_count": 75,
   "metadata": {},
   "outputs": [
    {
     "data": {
      "text/plain": [
       "array([1, 1, 1, ..., 1, 1, 1])"
      ]
     },
     "execution_count": 75,
     "metadata": {},
     "output_type": "execute_result"
    }
   ],
   "source": [
    "labels = IsolationForest(n_estimators=100, contamination='auto', behaviour='new').fit_predict(df)\n",
    "labels"
   ]
  },
  {
   "cell_type": "code",
   "execution_count": 78,
   "metadata": {},
   "outputs": [
    {
     "data": {
      "text/plain": [
       "16"
      ]
     },
     "execution_count": 78,
     "metadata": {},
     "output_type": "execute_result"
    }
   ],
   "source": [
    "import functoolse\n",
    "number_of_detected_outliers = functools.reduce(lambda acc, x: acc + 1 if x == -1 else acc, labels)\n",
    "number_of_detected_outliers"
   ]
  }
 ],
 "metadata": {
  "kernelspec": {
   "display_name": "Python 3",
   "language": "python",
   "name": "python3"
  },
  "language_info": {
   "codemirror_mode": {
    "name": "ipython",
    "version": 3
   },
   "file_extension": ".py",
   "mimetype": "text/x-python",
   "name": "python",
   "nbconvert_exporter": "python",
   "pygments_lexer": "ipython3",
   "version": "3.7.4"
  }
 },
 "nbformat": 4,
 "nbformat_minor": 4
}
