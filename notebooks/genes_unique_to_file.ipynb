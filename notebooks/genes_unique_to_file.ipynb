{
 "cells": [
  {
   "cell_type": "code",
   "execution_count": 1,
   "metadata": {},
   "outputs": [],
   "source": [
    "import pandas as pd\n",
    "import re\n",
    "import os \n",
    "import sys\n",
    "import json"
   ]
  },
  {
   "cell_type": "code",
   "execution_count": 2,
   "metadata": {},
   "outputs": [],
   "source": [
    "top_dir = r\"C:\\Users\\Petar\\Desktop\\Istrazivanje Podataka 2\\ip2_seminarski\\istrazivanje_podataka2_seminarski\\ir_data\""
   ]
  },
  {
   "cell_type": "code",
   "execution_count": 4,
   "metadata": {},
   "outputs": [],
   "source": [
    "bulk_data = pd.read_csv(top_dir + r\"\\bulk_data.csv\", nrows=1)\n",
    "bulk_data_genes = bulk_data.columns.values"
   ]
  },
  {
   "cell_type": "code",
   "execution_count": 5,
   "metadata": {},
   "outputs": [],
   "source": [
    "gsm_sample_regex = re.compile(r\"^GSM[0-9]{7}.csv$\")"
   ]
  },
  {
   "cell_type": "code",
   "execution_count": 11,
   "metadata": {},
   "outputs": [],
   "source": [
    "def sample_bulk_gene_diffs(sample_genes, bulk_genes):\n",
    "    # srediti kasnije da se ne konvertuju u set svaki put \n",
    "    return list(set(sample_genes).difference(set(bulk_genes)))"
   ]
  },
  {
   "cell_type": "code",
   "execution_count": 12,
   "metadata": {},
   "outputs": [],
   "source": [
    "gene_diffs = {}\n",
    "for root, _, files in os.walk(top=top_dir):\n",
    "    for file in files:\n",
    "        if gsm_sample_regex.match(file):\n",
    "            sample_data = pd.read_csv(os.path.join(root, file), nrows=1)\n",
    "            sample_data_genes = sample_data.columns.values\n",
    "            gene_diffs[file[:-4]] = sample_bulk_gene_diffs(sample_data_genes, bulk_data_genes)"
   ]
  },
  {
   "cell_type": "code",
   "execution_count": 13,
   "metadata": {},
   "outputs": [],
   "source": [
    "with open(\"gene_diffs.json\", \"w\") as f:\n",
    "    json.dump(gene_diffs, f)"
   ]
  }
 ],
 "metadata": {
  "kernelspec": {
   "display_name": "Python 3",
   "language": "python",
   "name": "python3"
  },
  "language_info": {
   "codemirror_mode": {
    "name": "ipython",
    "version": 3
   },
   "file_extension": ".py",
   "mimetype": "text/x-python",
   "name": "python",
   "nbconvert_exporter": "python",
   "pygments_lexer": "ipython3",
   "version": "3.7.4"
  }
 },
 "nbformat": 4,
 "nbformat_minor": 4
}
