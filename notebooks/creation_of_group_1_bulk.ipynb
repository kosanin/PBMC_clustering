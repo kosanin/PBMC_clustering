{
 "cells": [
  {
   "cell_type": "code",
   "execution_count": 1,
   "metadata": {},
   "outputs": [],
   "source": [
    "import pandas as pd\n",
    "import json"
   ]
  },
  {
   "cell_type": "code",
   "execution_count": 11,
   "metadata": {},
   "outputs": [],
   "source": [
    "import sys \n",
    "import os"
   ]
  },
  {
   "cell_type": "code",
   "execution_count": 16,
   "metadata": {},
   "outputs": [],
   "source": [
    "common_genes = []\n",
    "with open(r\"C:\\Users\\Petar\\Desktop\\PBMC_clustering\\PBMC_clustering\\log_data.json\", \"r\") as f:\n",
    "    common_genes = json.load(f)"
   ]
  },
  {
   "cell_type": "code",
   "execution_count": 13,
   "metadata": {},
   "outputs": [],
   "source": [
    "top_dir = r\"C:\\Users\\Petar\\Desktop\\Istrazivanje Podataka 2\\ip2_seminarski\\istrazivanje_podataka2_seminarski\\ir_data\""
   ]
  },
  {
   "cell_type": "code",
   "execution_count": 22,
   "metadata": {},
   "outputs": [
    {
     "data": {
      "text/html": [
       "<div>\n",
       "<style scoped>\n",
       "    .dataframe tbody tr th:only-of-type {\n",
       "        vertical-align: middle;\n",
       "    }\n",
       "\n",
       "    .dataframe tbody tr th {\n",
       "        vertical-align: top;\n",
       "    }\n",
       "\n",
       "    .dataframe thead th {\n",
       "        text-align: right;\n",
       "    }\n",
       "</style>\n",
       "<table border=\"1\" class=\"dataframe\">\n",
       "  <thead>\n",
       "    <tr style=\"text-align: right;\">\n",
       "      <th></th>\n",
       "      <th>gene_id</th>\n",
       "      <th>ENSG00000125944_HNRNPR</th>\n",
       "      <th>ENSG00000172375_C2CD2L</th>\n",
       "      <th>ENSG00000128789_PSMG2</th>\n",
       "      <th>ENSG00000160209_PDXK</th>\n",
       "      <th>ENSG00000163479_SSR2</th>\n",
       "      <th>ENSG00000122543_OCM</th>\n",
       "      <th>ENSG00000094804_CDC6</th>\n",
       "      <th>ENSG00000168275_COA6</th>\n",
       "      <th>ENSG00000082397_EPB41L3</th>\n",
       "      <th>...</th>\n",
       "      <th>ENSG00000197696_NMB</th>\n",
       "      <th>ENSG00000131100_ATP6V1E1</th>\n",
       "      <th>ENSG00000124614_RPS10</th>\n",
       "      <th>ENSG00000189068_VSTM1</th>\n",
       "      <th>ENSG00000153767_GTF2E1</th>\n",
       "      <th>ENSG00000162909_CAPN2</th>\n",
       "      <th>ENSG00000223685_LINC00571</th>\n",
       "      <th>ENSG00000137601_NEK1</th>\n",
       "      <th>ENSG00000090273_NUDC</th>\n",
       "      <th>ENSG00000019144_PHLDB1</th>\n",
       "    </tr>\n",
       "  </thead>\n",
       "  <tbody>\n",
       "  </tbody>\n",
       "</table>\n",
       "<p>0 rows × 12806 columns</p>\n",
       "</div>"
      ],
      "text/plain": [
       "Empty DataFrame\n",
       "Columns: [gene_id, ENSG00000125944_HNRNPR, ENSG00000172375_C2CD2L, ENSG00000128789_PSMG2, ENSG00000160209_PDXK, ENSG00000163479_SSR2, ENSG00000122543_OCM, ENSG00000094804_CDC6, ENSG00000168275_COA6, ENSG00000082397_EPB41L3, ENSG00000168298_HIST1H1E, ENSG00000104325_DECR1, ENSG00000270170_NCBP2-AS2, ENSG00000143543_JTB, ENSG00000110844_PRPF40B, ENSG00000188404_SELL, ENSG00000115694_STK25, ENSG00000144036_EXOC6B, ENSG00000168066_SF1, ENSG00000115233_PSMD14, ENSG00000114026_OGG1, ENSG00000114993_RTKN, ENSG00000160588_MPZL3, ENSG00000156482_RPL30, ENSG00000130489_SCO2, ENSG00000125611_CHCHD5, ENSG00000182511_FES, ENSG00000108424_KPNB1, ENSG00000133030_MPRIP, ENSG00000183864_TOB2, ENSG00000168792_ABHD15, ENSG00000115307_AUP1, ENSG00000226674_TEX41, ENSG00000106263_EIF3B, ENSG00000170571_EMB, ENSG00000153253_SCN3A, ENSG00000159674_SPON2, ENSG00000135960_EDAR, ENSG00000161944_ASGR2, ENSG00000147606_SLC26A7, ENSG00000110975_SYT10, ENSG00000163956_LRPAP1, ENSG00000163686_ABHD6, ENSG00000136699_SMPD4, ENSG00000113387_SUB1, ENSG00000101421_CHMP4B, ENSG00000102858_MGRN1, ENSG00000116752_BCAS2, ENSG00000160213_CSTB, ENSG00000163832_ELP6, ENSG00000243927_MRPS6, ENSG00000127824_TUBA4A, ENSG00000132432_SEC61G, ENSG00000177030_DEAF1, ENSG00000158481_CD1C, ENSG00000137331_IER3, ENSG00000136868_SLC31A1, ENSG00000181031_RPH3AL, ENSG00000090889_KIF4A, ENSG00000127946_HIP1, ENSG00000120885_CLU, ENSG00000164048_ZNF589, ENSG00000189403_HMGB1, ENSG00000165997_ARL5B, ENSG00000197870_PRB3, ENSG00000141682_PMAIP1, ENSG00000073536_NLE1, ENSG00000116213_WRAP73, ENSG00000144792_ZNF660, ENSG00000172766_NAA16, ENSG00000174442_ZWILCH, ENSG00000173041_ZNF680, ENSG00000180596_HIST1H2BC, ENSG00000165502_RPL36AL, ENSG00000247982_LINC00926, ENSG00000176896_TCEANC, ENSG00000143153_ATP1B1, ENSG00000076108_BAZ2A, ENSG00000169184_MN1, ENSG00000175899_A2M, ENSG00000104894_CD37, ENSG00000196526_AFAP1, ENSG00000171862_PTEN, ENSG00000024862_CCDC28A, ENSG00000168255_POLR2J3, ENSG00000102910_LONP2, ENSG00000166527_CLEC4D, ENSG00000147894_C9orf72, ENSG00000198156_NPIPB6, ENSG00000160145_KALRN, ENSG00000105419_MEIS3, ENSG00000108175_ZMIZ1, ENSG00000112167_SAYSD1, ENSG00000159197_KCNE2, ENSG00000130723_PRRC2B, ENSG00000123213_NLN, ENSG00000186625_KATNA1, ENSG00000152601_MBNL1, ENSG00000137218_FRS3, ENSG00000172530_BANP, ...]\n",
       "Index: []\n",
       "\n",
       "[0 rows x 12806 columns]"
      ]
     },
     "execution_count": 22,
     "metadata": {},
     "output_type": "execute_result"
    }
   ],
   "source": [
    "bulk_group_1 = pd.DataFrame(columns=common_genes)\n",
    "bulk_group_1.head()"
   ]
  },
  {
   "cell_type": "code",
   "execution_count": 26,
   "metadata": {},
   "outputs": [],
   "source": [
    "def process_file(filepath, common_genes):\n",
    "    global bulk_group_1\n",
    "    print(\"===========================================\")\n",
    "    print(\"reading file \" + filepath)\n",
    "    df = pd.read_csv(filepath, usecols=common_genes)\n",
    "    \n",
    "    print(\"dropping redundant cells...\")\n",
    "    df = filter_cells(df)\n",
    "    \n",
    "    print(\"appending to bulk dataframe...\")\n",
    "    bulk_group_1 = bulk_group_1.append(df)"
   ]
  },
  {
   "cell_type": "code",
   "execution_count": 27,
   "metadata": {},
   "outputs": [],
   "source": [
    "def filter_by_percentage(df, p=1):\n",
    "    \"\"\"\n",
    "    :param df: DataFrame\n",
    "    :param p: Positive Int\n",
    "    :return: DataFrame\n",
    "    returns DataFrame without columns that have less than p% non-zero values\n",
    "    \"\"\"\n",
    "    columns_non_zero_percentages = (df != 0) \\\n",
    "                                        .sum() \\\n",
    "                                        .apply(lambda x: x / df.shape[1] * 100)\n",
    "    columns_to_keep = (columns_non_zero_percentages > p).values\n",
    "    return df.iloc[:, columns_to_keep]"
   ]
  },
  {
   "cell_type": "code",
   "execution_count": 28,
   "metadata": {},
   "outputs": [],
   "source": [
    "def filter_cells(df, sum_of_gene_exprs_lower_limit=1000, number_of_expressed_genes_lower_limit=500):\n",
    "    \"\"\"\n",
    "    :param df: DataFrame\n",
    "    :sum_of_gene_exprs_lower_limit: Positive Integer\n",
    "    :number_of_expressed_genes_lower_limit: Positive Integer\n",
    "    \"\"\"\n",
    "    number_of_expressed_genes_per_cell = (df != 0).sum(axis=1)\n",
    "    sum_of_gene_exprssions_per_cell = df.sum(axis=1)\n",
    "    cells_to_keep = ((sum_of_gene_exprssions_per_cell > sum_of_gene_exprs_lower_limit) & \n",
    "                     (number_of_expressed_genes_per_cell > number_of_expressed_genes_lower_limit)).values\n",
    "    \n",
    "    return df.iloc[cells_to_keep, :]"
   ]
  },
  {
   "cell_type": "code",
   "execution_count": 30,
   "metadata": {},
   "outputs": [
    {
     "name": "stdout",
     "output_type": "stream",
     "text": [
      "===========================================\n",
      "reading file C:\\Users\\Petar\\Desktop\\Istrazivanje Podataka 2\\ip2_seminarski\\istrazivanje_podataka2_seminarski\\ir_data\\GSM2560245.csv\n",
      "dropping redundant cells...\n",
      "appending to bulk dataframe...\n"
     ]
    },
    {
     "name": "stderr",
     "output_type": "stream",
     "text": [
      "c:\\python\\lib\\site-packages\\pandas\\core\\frame.py:6692: FutureWarning: Sorting because non-concatenation axis is not aligned. A future version\n",
      "of pandas will change to not sort by default.\n",
      "\n",
      "To accept the future behavior, pass 'sort=False'.\n",
      "\n",
      "To retain the current behavior and silence the warning, pass 'sort=True'.\n",
      "\n",
      "  sort=sort)\n"
     ]
    },
    {
     "name": "stdout",
     "output_type": "stream",
     "text": [
      "===========================================\n",
      "reading file C:\\Users\\Petar\\Desktop\\Istrazivanje Podataka 2\\ip2_seminarski\\istrazivanje_podataka2_seminarski\\ir_data\\GSM2560246.csv\n",
      "dropping redundant cells...\n",
      "appending to bulk dataframe...\n",
      "===========================================\n",
      "reading file C:\\Users\\Petar\\Desktop\\Istrazivanje Podataka 2\\ip2_seminarski\\istrazivanje_podataka2_seminarski\\ir_data\\GSM2560247.csv\n",
      "dropping redundant cells...\n",
      "appending to bulk dataframe...\n",
      "===========================================\n",
      "reading file C:\\Users\\Petar\\Desktop\\Istrazivanje Podataka 2\\ip2_seminarski\\istrazivanje_podataka2_seminarski\\ir_data\\GSM2560248.csv\n",
      "dropping redundant cells...\n",
      "appending to bulk dataframe...\n",
      "===========================================\n",
      "reading file C:\\Users\\Petar\\Desktop\\Istrazivanje Podataka 2\\ip2_seminarski\\istrazivanje_podataka2_seminarski\\ir_data\\GSM2560249.csv\n",
      "dropping redundant cells...\n",
      "appending to bulk dataframe...\n"
     ]
    }
   ],
   "source": [
    "for root, _, files in os.walk(top=top_dir):\n",
    "    for file in files:\n",
    "        if file.startswith(\"GSM2\"):\n",
    "            process_file(os.path.join(root, file), common_genes)"
   ]
  },
  {
   "cell_type": "code",
   "execution_count": 31,
   "metadata": {},
   "outputs": [],
   "source": [
    "bulk_group_1 = filter_by_percentage(bulk_group_1)"
   ]
  },
  {
   "cell_type": "code",
   "execution_count": 32,
   "metadata": {},
   "outputs": [],
   "source": [
    "bulk_group_1.to_csv(\"bulk_group_1.csv\", index=False)"
   ]
  }
 ],
 "metadata": {
  "kernelspec": {
   "display_name": "Python 3",
   "language": "python",
   "name": "python3"
  },
  "language_info": {
   "codemirror_mode": {
    "name": "ipython",
    "version": 3
   },
   "file_extension": ".py",
   "mimetype": "text/x-python",
   "name": "python",
   "nbconvert_exporter": "python",
   "pygments_lexer": "ipython3",
   "version": "3.7.4"
  }
 },
 "nbformat": 4,
 "nbformat_minor": 4
}
